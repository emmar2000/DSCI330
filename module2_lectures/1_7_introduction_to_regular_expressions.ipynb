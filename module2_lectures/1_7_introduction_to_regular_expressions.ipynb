{
  "nbformat": 4,
  "nbformat_minor": 0,
  "metadata": {
    "celltoolbar": "Slideshow",
    "kernelspec": {
      "display_name": "Python 3",
      "language": "python",
      "name": "python3"
    },
    "language_info": {
      "codemirror_mode": {
        "name": "ipython",
        "version": 3
      },
      "file_extension": ".py",
      "mimetype": "text/x-python",
      "name": "python",
      "nbconvert_exporter": "python",
      "pygments_lexer": "ipython3",
      "version": "3.7.2"
    },
    "varInspector": {
      "cols": {
        "lenName": 16,
        "lenType": 16,
        "lenVar": 40
      },
      "kernels_config": {
        "python": {
          "delete_cmd_postfix": "",
          "delete_cmd_prefix": "del ",
          "library": "var_list.py",
          "varRefreshCmd": "print(var_dic_list())"
        },
        "r": {
          "delete_cmd_postfix": ") ",
          "delete_cmd_prefix": "rm(",
          "library": "var_list.r",
          "varRefreshCmd": "cat(var_dic_list()) "
        }
      },
      "types_to_exclude": [
        "module",
        "function",
        "builtin_function_or_method",
        "instance",
        "_Feature"
      ],
      "window_display": false
    },
    "colab": {
      "name": "1_7_introduction_to_regular_expressions.ipynb",
      "provenance": [],
      "include_colab_link": true
    }
  },
  "cells": [
    {
      "cell_type": "markdown",
      "metadata": {
        "id": "view-in-github",
        "colab_type": "text"
      },
      "source": [
        "<a href=\"https://colab.research.google.com/github/emmar2000/DSCI330/blob/main/module2_lectures/1_7_introduction_to_regular_expressions.ipynb\" target=\"_parent\"><img src=\"https://colab.research.google.com/assets/colab-badge.svg\" alt=\"Open In Colab\"/></a>"
      ]
    },
    {
      "cell_type": "markdown",
      "metadata": {
        "id": "j1RkpVVyX5DQ"
      },
      "source": [
        "## Regular Expressions\n",
        "\n",
        "<img src=\"https://imgs.xkcd.com/comics/regular_expressions.png \" width=400>"
      ]
    },
    {
      "cell_type": "markdown",
      "metadata": {
        "id": "b6bvDVI3X5DS"
      },
      "source": [
        "## RegEx Golf\n",
        "\n",
        "<img src=\"https://imgs.xkcd.com/comics/regex_golf.png\" width=600>"
      ]
    },
    {
      "cell_type": "markdown",
      "metadata": {
        "id": "4fVoCSNAX5DU"
      },
      "source": [
        "## Perl Problems\n",
        "\n",
        "    Some people, when confronted with a problem, think \"I know, I'll use regular expressions.\" Now they have two problems. - Jamie Zawinski \n",
        "<img src=\"https://imgs.xkcd.com/comics/perl_problems.png\" width=600>"
      ]
    },
    {
      "cell_type": "markdown",
      "metadata": {
        "id": "ErB6Z_dmX5DV"
      },
      "source": [
        "## <font color=\"red\"> Exercise 1 </font>\n",
        "\n",
        "**Question:** What do all of these strings have in common?\n",
        "\n",
        "* `\"ab\"`\n",
        "* `\"abab\"`\n",
        "* `\"ababcde\"`\n",
        "* `\"abcde\"`"
      ]
    },
    {
      "cell_type": "markdown",
      "metadata": {
        "id": "aWc8T3ChX5DY"
      },
      "source": [
        "They start with \"ab\""
      ]
    },
    {
      "cell_type": "markdown",
      "metadata": {
        "id": "BxU4q9BxX5DZ"
      },
      "source": [
        "## <font color=\"red\"> Exercise 2 </font>\n",
        "\n",
        "**Task:** Predict the next three elements of the sequence.\n",
        "\n",
        "* `\"0\"`\n",
        "* `\"1ab\"`\n",
        "* `\"2abab\"`\n",
        "* `\"3ababab\"`\n"
      ]
    },
    {
      "cell_type": "markdown",
      "metadata": {
        "id": "HyoS0HDZX5DZ"
      },
      "source": [
        "\"4abababab\", \"5ababababab\", \"6abababababab\"\n",
        "\n",
        "[str(i) + i*\"ab\" for i in range(4,7)]"
      ]
    },
    {
      "cell_type": "markdown",
      "metadata": {
        "id": "o-Z2zXN4X5Da"
      },
      "source": [
        "## What is a regular expression\n",
        "\n",
        "* Language for matching regular patterns\n",
        "    * `\"ab\"`\n",
        "    * `\"abab\"`\n",
        "    * `\"ababcde\"`\n",
        "    * `\"abcde\"`\n",
        "* Can't match other, context sensitive, patterns\n",
        "    * `\"0\"`\n",
        "    * `\"1ab\"`\n",
        "    * `\"2abab\"`\n",
        "    * `\"3ababab\"`"
      ]
    },
    {
      "cell_type": "markdown",
      "metadata": {
        "id": "mpxxhnBOX5Db"
      },
      "source": [
        "## <font color=\"red\"> Exercise 3 </font>\n",
        "\n",
        "**Tasks:** \n",
        "\n",
        "1. Go to [RegexOne](https://regexone.com/)\n",
        "2. Read the first section\n",
        "3. Define a pattern that matches the first three strings."
      ]
    },
    {
      "cell_type": "code",
      "metadata": {
        "id": "EC5uN-l2X5Dc"
      },
      "source": [
        "pattern1 = \"^abc\""
      ],
      "execution_count": null,
      "outputs": []
    },
    {
      "cell_type": "markdown",
      "metadata": {
        "id": "Ni_HfYbBX5Dg"
      },
      "source": [
        "## Regular Expressions Workflow in Python\n",
        "\n",
        "* `import re`\n",
        "* Compile a pattern `regex = re.compile(pattern)`\n",
        "    * Use `r\"pattern\"` to avoid escaping symbols\n",
        "* `m = regex.match(some_string)`"
      ]
    },
    {
      "cell_type": "markdown",
      "metadata": {
        "id": "q3IZ3z2Dabnc"
      },
      "source": [
        "regex.match - searches only from beginning of string\n",
        "\n",
        "regex.search - searches throughout string\n",
        "> or provide optional start/end positions to consider"
      ]
    },
    {
      "cell_type": "code",
      "metadata": {
        "id": "dMDmTaUiX5Dh"
      },
      "source": [
        "import re"
      ],
      "execution_count": null,
      "outputs": []
    },
    {
      "cell_type": "code",
      "metadata": {
        "id": "wrdZ80IbX5Dk",
        "colab": {
          "base_uri": "https://localhost:8080/",
          "height": 34
        },
        "outputId": "e2b169a9-3a12-43bb-d195-2c7c8b54a08c"
      },
      "source": [
        "pattern = r\"ab\" # r is for raw\n",
        "regex = re.compile(pattern)\n",
        "m1 = regex.match('abc')\n",
        "m1"
      ],
      "execution_count": null,
      "outputs": [
        {
          "output_type": "execute_result",
          "data": {
            "text/plain": [
              "<_sre.SRE_Match object; span=(0, 2), match='ab'>"
            ]
          },
          "metadata": {
            "tags": []
          },
          "execution_count": 3
        }
      ]
    },
    {
      "cell_type": "code",
      "metadata": {
        "id": "HTwT33eBargL",
        "colab": {
          "base_uri": "https://localhost:8080/",
          "height": 141
        },
        "outputId": "34f4c3ca-c203-4688-c7f3-bd71b943a7aa"
      },
      "source": [
        "help(regex.search)"
      ],
      "execution_count": null,
      "outputs": [
        {
          "output_type": "stream",
          "text": [
            "Help on built-in function search:\n",
            "\n",
            "search(string=None, pos=0, endpos=9223372036854775807, *, pattern=None) method of _sre.SRE_Pattern instance\n",
            "    Scan through string looking for a match, and return a corresponding match object instance.\n",
            "    \n",
            "    Return None if no position in the string matches.\n",
            "\n"
          ],
          "name": "stdout"
        }
      ]
    },
    {
      "cell_type": "markdown",
      "metadata": {
        "id": "R0415FjDX5Do"
      },
      "source": [
        "## `match` returns `None` when there is no match"
      ]
    },
    {
      "cell_type": "code",
      "metadata": {
        "id": "s4iqvun5X5Do"
      },
      "source": [
        "m2 = regex.match('acb')\n",
        "m2"
      ],
      "execution_count": null,
      "outputs": []
    },
    {
      "cell_type": "code",
      "metadata": {
        "id": "bnIKv8AuX5Dr",
        "colab": {
          "base_uri": "https://localhost:8080/",
          "height": 34
        },
        "outputId": "01e3ebef-453c-4cb5-894e-87c25e0d2f63"
      },
      "source": [
        "m2 is None"
      ],
      "execution_count": null,
      "outputs": [
        {
          "output_type": "execute_result",
          "data": {
            "text/plain": [
              "True"
            ]
          },
          "metadata": {
            "tags": []
          },
          "execution_count": 6
        }
      ]
    },
    {
      "cell_type": "code",
      "metadata": {
        "id": "VKyyffrQX5Du",
        "colab": {
          "base_uri": "https://localhost:8080/",
          "height": 34
        },
        "outputId": "728c34a8-3559-4523-8677-6450a0160329"
      },
      "source": [
        "not m2 "
      ],
      "execution_count": null,
      "outputs": [
        {
          "output_type": "execute_result",
          "data": {
            "text/plain": [
              "True"
            ]
          },
          "metadata": {
            "tags": []
          },
          "execution_count": 7
        }
      ]
    },
    {
      "cell_type": "markdown",
      "metadata": {
        "id": "iiiKyLThX5Dw"
      },
      "source": [
        "## The result of a match can be used in Boolean expressions"
      ]
    },
    {
      "cell_type": "code",
      "metadata": {
        "id": "wsW2r5t-X5Dx",
        "colab": {
          "base_uri": "https://localhost:8080/",
          "height": 35
        },
        "outputId": "c21a7d9f-2b10-4a08-c1c7-5ac461db2c4f"
      },
      "source": [
        "\"Yes\" if m1 else \"No\""
      ],
      "execution_count": null,
      "outputs": [
        {
          "output_type": "execute_result",
          "data": {
            "application/vnd.google.colaboratory.intrinsic+json": {
              "type": "string"
            },
            "text/plain": [
              "'Yes'"
            ]
          },
          "metadata": {
            "tags": []
          },
          "execution_count": 8
        }
      ]
    },
    {
      "cell_type": "code",
      "metadata": {
        "id": "CwKx4xqdX5Dz",
        "colab": {
          "base_uri": "https://localhost:8080/",
          "height": 35
        },
        "outputId": "8b6f5dcf-70fd-4eb4-9320-f423fb671257"
      },
      "source": [
        "\"Yes\" if m2 else \"No\""
      ],
      "execution_count": null,
      "outputs": [
        {
          "output_type": "execute_result",
          "data": {
            "application/vnd.google.colaboratory.intrinsic+json": {
              "type": "string"
            },
            "text/plain": [
              "'No'"
            ]
          },
          "metadata": {
            "tags": []
          },
          "execution_count": 9
        }
      ]
    },
    {
      "cell_type": "markdown",
      "metadata": {
        "id": "6xSJmztrX5D2"
      },
      "source": [
        "## <font color=\"red\"> Exercise 4 </font>\n",
        "\n",
        "**Tasks:** Make sure your pattern from <font color=\"red\"> Exercise 3</font> passes the following `assert` statements."
      ]
    },
    {
      "cell_type": "code",
      "metadata": {
        "id": "HO4Ec0D6X5D3"
      },
      "source": [
        "pattern1 = \"^abc\"\n",
        "my_regex = re.compile(pattern1)\n",
        "assert my_regex.match('abcdefg')\n",
        "assert my_regex.match('abcde')\n",
        "assert my_regex.match('abc')\n",
        "assert not my_regex.match('acb')"
      ],
      "execution_count": null,
      "outputs": []
    },
    {
      "cell_type": "markdown",
      "metadata": {
        "id": "zyUzZl5EX5D5"
      },
      "source": [
        "## Whitespace and escaped characters\n",
        "\n",
        "* Whitespace includes spaces, tabs, and newlines\n",
        "* Python uses escape characters: `\"\\t\"`, `\"\\n\"`"
      ]
    },
    {
      "cell_type": "markdown",
      "metadata": {
        "id": "BPPt2WIkX5D5"
      },
      "source": [
        "#### Use `\"\\n\"` for newlines"
      ]
    },
    {
      "cell_type": "code",
      "metadata": {
        "id": "Nbtk1iw4X5D5",
        "colab": {
          "base_uri": "https://localhost:8080/",
          "height": 35
        },
        "outputId": "480b46a3-3ccf-4dd2-e840-5ff4e378f86a"
      },
      "source": [
        "\"\\n\""
      ],
      "execution_count": null,
      "outputs": [
        {
          "output_type": "execute_result",
          "data": {
            "application/vnd.google.colaboratory.intrinsic+json": {
              "type": "string"
            },
            "text/plain": [
              "'\\n'"
            ]
          },
          "metadata": {
            "tags": []
          },
          "execution_count": 11
        }
      ]
    },
    {
      "cell_type": "code",
      "metadata": {
        "id": "DiU_ttfFX5D7",
        "colab": {
          "base_uri": "https://localhost:8080/",
          "height": 52
        },
        "outputId": "e54eade6-0037-4c09-ae16-d1dfd3dc2511"
      },
      "source": [
        "print('\\n')"
      ],
      "execution_count": null,
      "outputs": [
        {
          "output_type": "stream",
          "text": [
            "\n",
            "\n"
          ],
          "name": "stdout"
        }
      ]
    },
    {
      "cell_type": "code",
      "metadata": {
        "id": "3YqS6bU9X5D-",
        "colab": {
          "base_uri": "https://localhost:8080/",
          "height": 52
        },
        "outputId": "d8c09a3e-5683-42a0-ab4a-9710b02b6d94"
      },
      "source": [
        "print('a\\nb')"
      ],
      "execution_count": null,
      "outputs": [
        {
          "output_type": "stream",
          "text": [
            "a\n",
            "b\n"
          ],
          "name": "stdout"
        }
      ]
    },
    {
      "cell_type": "markdown",
      "metadata": {
        "id": "LE0sUcTuX5EA"
      },
      "source": [
        "#### Use `\"\\t\"` for tab"
      ]
    },
    {
      "cell_type": "code",
      "metadata": {
        "id": "LWY7ZKtKX5EA",
        "colab": {
          "base_uri": "https://localhost:8080/",
          "height": 35
        },
        "outputId": "c84e3e5d-eb9c-4c59-9dd6-7f86a468a7ea"
      },
      "source": [
        "\"\\t\""
      ],
      "execution_count": null,
      "outputs": [
        {
          "output_type": "execute_result",
          "data": {
            "application/vnd.google.colaboratory.intrinsic+json": {
              "type": "string"
            },
            "text/plain": [
              "'\\t'"
            ]
          },
          "metadata": {
            "tags": []
          },
          "execution_count": 14
        }
      ]
    },
    {
      "cell_type": "code",
      "metadata": {
        "id": "wmKoci2yX5EC",
        "colab": {
          "base_uri": "https://localhost:8080/",
          "height": 34
        },
        "outputId": "b38af02c-9512-441b-9b99-493001ba8088"
      },
      "source": [
        "print('\\t')"
      ],
      "execution_count": null,
      "outputs": [
        {
          "output_type": "stream",
          "text": [
            "\t\n"
          ],
          "name": "stdout"
        }
      ]
    },
    {
      "cell_type": "code",
      "metadata": {
        "id": "oJoWBN29X5EE",
        "colab": {
          "base_uri": "https://localhost:8080/",
          "height": 34
        },
        "outputId": "7f4ca68f-3ee4-43bb-b80b-a8ba37e6ffb1"
      },
      "source": [
        "print('a\\tb')"
      ],
      "execution_count": null,
      "outputs": [
        {
          "output_type": "stream",
          "text": [
            "a\tb\n"
          ],
          "name": "stdout"
        }
      ]
    },
    {
      "cell_type": "markdown",
      "metadata": {
        "id": "4pR3869vX5EH"
      },
      "source": [
        "## Why use `r\"raw strings\"` in `regex`\n",
        "\n",
        "* Regular strings $\\rightarrow$ `\\` is for special characters: `'\\n'`, `'\\t'`\n",
        "* In regular expressions, `\\` is for\n",
        "    * Escaping: i.e. `\\.` vs. `.`\n",
        "* Without raw string, we would need \n",
        "    * `'\\\\n'`  to match a new line\n",
        "    * `'\\\\t'` to match a tab"
      ]
    },
    {
      "cell_type": "code",
      "metadata": {
        "id": "WeuZEUxpX5EH",
        "colab": {
          "base_uri": "https://localhost:8080/",
          "height": 35
        },
        "outputId": "fe540179-ffff-4de2-cd6b-460a87f6762e"
      },
      "source": [
        "r\"\\n\" # Raw string allow us to match newlines without the extra \\"
      ],
      "execution_count": null,
      "outputs": [
        {
          "output_type": "execute_result",
          "data": {
            "application/vnd.google.colaboratory.intrinsic+json": {
              "type": "string"
            },
            "text/plain": [
              "'\\\\n'"
            ]
          },
          "metadata": {
            "tags": []
          },
          "execution_count": 17
        }
      ]
    },
    {
      "cell_type": "markdown",
      "metadata": {
        "id": "xN8pwzK3X5EJ"
      },
      "source": [
        "## Important `match object` methods\n",
        "\n",
        "<table class=\"docutils\" border=\"1\">\n",
        "<colgroup>\n",
        "<col width=\"29%\">\n",
        "<col width=\"71%\">\n",
        "</colgroup>\n",
        "<thead valign=\"bottom\">\n",
        "<tr class=\"row-odd\"><th class=\"head\">Method/Attribute</th>\n",
        "<th class=\"head\">Purpose</th>\n",
        "</tr>\n",
        "</thead>\n",
        "<tbody valign=\"top\">\n",
        "<tr class=\"row-even\"><td><code class=\"docutils literal notranslate\"><span class=\"pre\">group()</span></code></td>\n",
        "<td>Return the string matched by the RE</td>\n",
        "</tr>\n",
        "<tr class=\"row-odd\"><td><code class=\"docutils literal notranslate\"><span class=\"pre\">start()</span></code></td>\n",
        "<td>Return the starting position of the match</td>\n",
        "</tr>\n",
        "<tr class=\"row-even\"><td><code class=\"docutils literal notranslate\"><span class=\"pre\">end()</span></code></td>\n",
        "<td>Return the ending position of the match</td>\n",
        "</tr>\n",
        "<tr class=\"row-odd\"><td><code class=\"docutils literal notranslate\"><span class=\"pre\">span()</span></code></td>\n",
        "<td>Return a tuple containing the (start, end)\n",
        "positions  of the match</td>\n",
        "</tr>\n",
        "</tbody>\n",
        "</table>"
      ]
    },
    {
      "cell_type": "code",
      "metadata": {
        "id": "5hoBIUl1X5EJ",
        "colab": {
          "base_uri": "https://localhost:8080/",
          "height": 35
        },
        "outputId": "5bafc7e7-ecfb-4ca5-887a-44660eedd309"
      },
      "source": [
        "m1.group()"
      ],
      "execution_count": null,
      "outputs": [
        {
          "output_type": "execute_result",
          "data": {
            "application/vnd.google.colaboratory.intrinsic+json": {
              "type": "string"
            },
            "text/plain": [
              "'ab'"
            ]
          },
          "metadata": {
            "tags": []
          },
          "execution_count": 18
        }
      ]
    },
    {
      "cell_type": "code",
      "metadata": {
        "id": "Te0YlIm7X5EL",
        "colab": {
          "base_uri": "https://localhost:8080/",
          "height": 34
        },
        "outputId": "7ca740bd-2801-4a61-c3fd-01e292091211"
      },
      "source": [
        "m1.start(), m1.end()"
      ],
      "execution_count": null,
      "outputs": [
        {
          "output_type": "execute_result",
          "data": {
            "text/plain": [
              "(0, 2)"
            ]
          },
          "metadata": {
            "tags": []
          },
          "execution_count": 19
        }
      ]
    },
    {
      "cell_type": "code",
      "metadata": {
        "id": "gAfI6kzmX5EO",
        "colab": {
          "base_uri": "https://localhost:8080/",
          "height": 34
        },
        "outputId": "814b4d8e-b35f-4e59-903c-7ab7aed1932c"
      },
      "source": [
        "m1.span()"
      ],
      "execution_count": null,
      "outputs": [
        {
          "output_type": "execute_result",
          "data": {
            "text/plain": [
              "(0, 2)"
            ]
          },
          "metadata": {
            "tags": []
          },
          "execution_count": 20
        }
      ]
    },
    {
      "cell_type": "markdown",
      "metadata": {
        "id": "3a-1XT_-X5EQ"
      },
      "source": [
        "## Be sure to check for `None`"
      ]
    },
    {
      "cell_type": "code",
      "metadata": {
        "id": "xiqfIM3BX5ER"
      },
      "source": [
        "m2 # example that DIDN'T match "
      ],
      "execution_count": null,
      "outputs": []
    },
    {
      "cell_type": "code",
      "metadata": {
        "id": "7d7aVwpPX5ET",
        "colab": {
          "base_uri": "https://localhost:8080/",
          "height": 34
        },
        "outputId": "f16324bc-7da5-4fe4-eff2-1dafd6577c1d"
      },
      "source": [
        "m2 is None # non-matches return None"
      ],
      "execution_count": null,
      "outputs": [
        {
          "output_type": "execute_result",
          "data": {
            "text/plain": [
              "True"
            ]
          },
          "metadata": {
            "tags": []
          },
          "execution_count": 22
        }
      ]
    },
    {
      "cell_type": "code",
      "metadata": {
        "id": "B4ZmjPiEX5EV"
      },
      "source": [
        "m2.group() # Oh you silly 'Nonetype' errors"
      ],
      "execution_count": null,
      "outputs": []
    },
    {
      "cell_type": "markdown",
      "metadata": {
        "id": "agd3hTj0X5EX"
      },
      "source": [
        "## Solution 1\n",
        "\n",
        "Always check for `None`"
      ]
    },
    {
      "cell_type": "code",
      "metadata": {
        "id": "u-6dDi6GX5EX"
      },
      "source": [
        "m2.group() if m2 else None"
      ],
      "execution_count": null,
      "outputs": []
    },
    {
      "cell_type": "markdown",
      "metadata": {
        "id": "cESso256X5EZ"
      },
      "source": [
        "## Solution 2\n",
        "\n",
        "Learn about the [`Maybe` monad](https://en.wikipedia.org/wiki/Monad_(functional_programming)#An_example:_Maybe). (We will tackle this in a later chapter.)"
      ]
    },
    {
      "cell_type": "markdown",
      "metadata": {
        "id": "0Aiik3YgX5Ea"
      },
      "source": [
        "## Python regex methods\n",
        "\n",
        "<table class=\"docutils\" border=\"1\">\n",
        "<colgroup>\n",
        "<col width=\"28%\">\n",
        "<col width=\"72%\">\n",
        "</colgroup>\n",
        "<thead valign=\"bottom\">\n",
        "<tr class=\"row-odd\"><th class=\"head\">Method/Attribute</th>\n",
        "<th class=\"head\">Purpose</th>\n",
        "</tr>\n",
        "</thead>\n",
        "<tbody valign=\"top\">\n",
        "<tr class=\"row-even\"><td><code class=\"docutils literal notranslate\"><span class=\"pre\">match()</span></code></td>\n",
        "<td>Determine if the RE matches at the beginning\n",
        "of the string.</td>\n",
        "</tr>\n",
        "<tr class=\"row-odd\"><td><code class=\"docutils literal notranslate\"><span class=\"pre\">search()</span></code></td>\n",
        "<td>Scan through a string, looking for any\n",
        "location where this RE matches.</td>\n",
        "</tr>\n",
        "<tr class=\"row-even\"><td><code class=\"docutils literal notranslate\"><span class=\"pre\">findall()</span></code></td>\n",
        "<td>Find all substrings where the RE matches, and\n",
        "returns them as a list.</td>\n",
        "</tr>\n",
        "<tr class=\"row-odd\"><td><code class=\"docutils literal notranslate\"><span class=\"pre\">finditer()</span></code></td>\n",
        "<td>Find all substrings where the RE matches, and\n",
        "returns them as an <a class=\"reference internal\" href=\"../glossary.html#term-iterator\"><span class=\"xref std std-term\">iterator</span></a>.</td>\n",
        "</tr>\n",
        "</tbody>\n",
        "</table>\n",
        "\n",
        "**Source:** [Python documentation](https://docs.python.org/3/howto/regex.html)"
      ]
    },
    {
      "cell_type": "markdown",
      "metadata": {
        "id": "Psjh6pa9X5Ea"
      },
      "source": [
        "## A better `str.replace`\n",
        "\n",
        "* Often chain many `replace` calls\n",
        "* Example `s.replace('(', '').replace(')','').replace(':', '')`\n",
        "* We can use `re.sub` to simplify."
      ]
    },
    {
      "cell_type": "code",
      "metadata": {
        "id": "WbTHwLytX5Ea",
        "colab": {
          "base_uri": "https://localhost:8080/",
          "height": 35
        },
        "outputId": "c875f576-645a-4177-9bf5-a81087be14d2"
      },
      "source": [
        "s = \"The string (has) some: things in (it)\"\n",
        "s.replace('(', '').replace(')','').replace(':', '')"
      ],
      "execution_count": null,
      "outputs": [
        {
          "output_type": "execute_result",
          "data": {
            "application/vnd.google.colaboratory.intrinsic+json": {
              "type": "string"
            },
            "text/plain": [
              "'The string has some things in it'"
            ]
          },
          "metadata": {
            "tags": []
          },
          "execution_count": 25
        }
      ]
    },
    {
      "cell_type": "code",
      "metadata": {
        "id": "zQ1hgLF8X5Ec",
        "colab": {
          "base_uri": "https://localhost:8080/",
          "height": 35
        },
        "outputId": "9fc4f997-64d4-40a8-e78e-0e129170d504"
      },
      "source": [
        "re.sub(r\"[():]\", '', s)"
      ],
      "execution_count": null,
      "outputs": [
        {
          "output_type": "execute_result",
          "data": {
            "application/vnd.google.colaboratory.intrinsic+json": {
              "type": "string"
            },
            "text/plain": [
              "'The string has some things in it'"
            ]
          },
          "metadata": {
            "tags": []
          },
          "execution_count": 26
        }
      ]
    },
    {
      "cell_type": "markdown",
      "metadata": {
        "id": "LyLZFRNIX5Ee"
      },
      "source": [
        "## Substitutions with a compiled RegEx\n",
        "\n",
        "1. Compile a pattern\n",
        "2. Use `pat.sub(new_substr, s)`"
      ]
    },
    {
      "cell_type": "code",
      "metadata": {
        "id": "lRzfukIyX5Ee",
        "colab": {
          "base_uri": "https://localhost:8080/",
          "height": 35
        },
        "outputId": "66a3d5da-c9fe-44e6-87d8-f1889185a38b"
      },
      "source": [
        "paren_or_colon = re.compile(r\"[():]\")\n",
        "paren_or_colon.sub('', s)"
      ],
      "execution_count": null,
      "outputs": [
        {
          "output_type": "execute_result",
          "data": {
            "application/vnd.google.colaboratory.intrinsic+json": {
              "type": "string"
            },
            "text/plain": [
              "'The string has some things in it'"
            ]
          },
          "metadata": {
            "tags": []
          },
          "execution_count": 27
        }
      ]
    },
    {
      "cell_type": "markdown",
      "metadata": {
        "id": "JXhwHfTAX5Eh"
      },
      "source": [
        "## <font color=\"red\"> Exercise 4 </font>\n",
        "\n",
        "**Task:** Write and test a function that uses `re.sub` to remove all punctuation from a string.  **Hint:** Use the `punctuation` variable from the `string` module."
      ]
    },
    {
      "cell_type": "code",
      "metadata": {
        "id": "E4pL84fQX5Ei"
      },
      "source": [
        "import string\n",
        "\n",
        "def strip_punctuation(s: str) -> str:\n",
        "  \"\"\"Removes punctuation from a string.\n",
        "\n",
        "  Args:\n",
        "    s: A string\n",
        "\n",
        "  Returns:\n",
        "    String without punctuation\n",
        "  \"\"\"\n",
        "  patt = re.compile(rf\"[{re.escape(string.punctuation)}]\")\n",
        "  return re.sub(patt, \"\", s)"
      ],
      "execution_count": null,
      "outputs": []
    },
    {
      "cell_type": "code",
      "metadata": {
        "id": "EYpGeFF7kbKU"
      },
      "source": [
        "def test_strip_punctuation():\n",
        "  assert strip_punctuation(\"This???@@##$ is#$% a%$^ test$% ^&string\") == \"This is a test string\"\n",
        "\n",
        "test_strip_punctuation()"
      ],
      "execution_count": null,
      "outputs": []
    },
    {
      "cell_type": "markdown",
      "metadata": {
        "id": "RDyGYoVvX5Ej"
      },
      "source": [
        "## Next Up\n",
        "\n",
        "Now you should read through the rest of [RegExOne](https://regexone.com/) and put your work in [Lab 3](./lab_3_regexone.ipynb)."
      ]
    },
    {
      "cell_type": "markdown",
      "metadata": {
        "id": "o8OWWTYNzO02"
      },
      "source": [
        "** Changed my_regex.match() to .search() for compatibility with website's any position matches"
      ]
    },
    {
      "cell_type": "code",
      "metadata": {
        "id": "kF3aAh1tlqdW"
      },
      "source": [
        "# Lesson 1 1/2\n",
        "pattern = r\"\\d+\"\n",
        "my_regex = re.compile(pattern)\n",
        "assert my_regex.search('abc123xyz')\n",
        "assert my_regex.search('define \"123\"')\n",
        "assert my_regex.search('var g = 123')"
      ],
      "execution_count": null,
      "outputs": []
    },
    {
      "cell_type": "code",
      "metadata": {
        "id": "ZGsAFK6Jlrp8"
      },
      "source": [
        "# Lesson 2\n",
        "pattern = r\"\\.\"\n",
        "my_regex = re.compile(pattern)\n",
        "assert my_regex.search('cat.')\n",
        "assert my_regex.search('896.')\n",
        "assert my_regex.search('?=+.')\n",
        "assert not my_regex.search('abc1')"
      ],
      "execution_count": null,
      "outputs": []
    },
    {
      "cell_type": "code",
      "metadata": {
        "id": "6eXEQ_8-w0ki"
      },
      "source": [
        "# Lesson 3\n",
        "pattern = r\"[cmf]an\"\n",
        "my_regex = re.compile(pattern)\n",
        "assert my_regex.search('can')\n",
        "assert my_regex.search('man')\n",
        "assert my_regex.search('fan')\n",
        "assert not my_regex.search('dan')\n",
        "assert not my_regex.search('ran')\n",
        "assert not my_regex.search('pan')"
      ],
      "execution_count": null,
      "outputs": []
    },
    {
      "cell_type": "code",
      "metadata": {
        "id": "yIxruk6uw0x1"
      },
      "source": [
        "# Lesson 4\n",
        "pattern = r\"[^b]og\"\n",
        "my_regex = re.compile(pattern)\n",
        "assert my_regex.search('hog')\n",
        "assert my_regex.search('dog')\n",
        "assert not my_regex.search('bog')"
      ],
      "execution_count": null,
      "outputs": []
    },
    {
      "cell_type": "code",
      "metadata": {
        "id": "HlDhH6bxw1AB"
      },
      "source": [
        "# Lesson 5\n",
        "pattern = r\"[A-C][n-p][a-c]\"\n",
        "my_regex = re.compile(pattern)\n",
        "assert my_regex.search('Ana')\n",
        "assert my_regex.search('Bob')\n",
        "assert my_regex.search('Cpc')\n",
        "assert not my_regex.search('aax')\n",
        "assert not my_regex.search('bby')\n",
        "assert not my_regex.search('ccz')"
      ],
      "execution_count": null,
      "outputs": []
    },
    {
      "cell_type": "code",
      "metadata": {
        "id": "bCJRqyvaw1NJ"
      },
      "source": [
        "# Lesson 6\n",
        "pattern = r\"waz{3,}up\"\n",
        "my_regex = re.compile(pattern)\n",
        "assert my_regex.search('wazzzzzup')\n",
        "assert my_regex.search('wazzzup')\n",
        "assert not my_regex.search('wazup')"
      ],
      "execution_count": null,
      "outputs": []
    },
    {
      "cell_type": "code",
      "metadata": {
        "id": "4LQ-Idizw1bG"
      },
      "source": [
        "# Lesson 7\n",
        "pattern = r\"aa+b*c+\"\n",
        "my_regex = re.compile(pattern)\n",
        "assert my_regex.search('aaaabcc')\n",
        "assert my_regex.search('aabbbbc')\n",
        "assert my_regex.search('aacc')\n",
        "assert not my_regex.search('a')"
      ],
      "execution_count": null,
      "outputs": []
    },
    {
      "cell_type": "code",
      "metadata": {
        "id": "99gXekq5w1oE"
      },
      "source": [
        "# Lesson 8\n",
        "pattern = r\"\\d+ files? found\\?\"\n",
        "my_regex = re.compile(pattern)\n",
        "assert my_regex.search('1 file found?')\n",
        "assert my_regex.search('2 files found?')\n",
        "assert my_regex.search('24 files found?')\n",
        "assert not my_regex.search('No files found.')"
      ],
      "execution_count": null,
      "outputs": []
    },
    {
      "cell_type": "code",
      "metadata": {
        "id": "vhQpQl35w11h"
      },
      "source": [
        "# Lesson 9\n",
        "pattern = r\"\\d\\.\\s+abc\"\n",
        "my_regex = re.compile(pattern)\n",
        "assert my_regex.search('1. abc')\n",
        "assert my_regex.search('2.  abc')\n",
        "assert my_regex.search('3.   abc')\n",
        "assert not my_regex.search('4.abc')"
      ],
      "execution_count": null,
      "outputs": []
    },
    {
      "cell_type": "code",
      "metadata": {
        "id": "1fR6XWFU0tUc"
      },
      "source": [
        "# Lesson 10\n",
        "pattern = r\"^Mission: successful$\"\n",
        "my_regex = re.compile(pattern)\n",
        "assert my_regex.search('Mission: successful')\n",
        "assert not my_regex.search('Last Mission: unsuccessful')\n",
        "assert not my_regex.search('Next Mission: successful upon capture of target')"
      ],
      "execution_count": null,
      "outputs": []
    },
    {
      "cell_type": "code",
      "metadata": {
        "id": "hotsfQLW0tmr"
      },
      "source": [
        "# Lesson 11\n",
        "pattern = r\"^(file_.+)\\.pdf$\"\n",
        "my_regex = re.compile(pattern)\n",
        "assert my_regex.search('file_record_transcript.pdf').group(1) == \"file_record_transcript\"\n",
        "assert my_regex.search('file_07241999.pdf').group(1) == \"file_07241999\"\n",
        "assert not my_regex.search('testfile_fake.pdf.tmp')"
      ],
      "execution_count": null,
      "outputs": []
    },
    {
      "cell_type": "code",
      "metadata": {
        "id": "wrB4DPXc0tvc"
      },
      "source": [
        "# Lesson 12\n",
        "pattern = r\"^(\\w{3}\\s+(\\d{4}))$\"\n",
        "my_regex = re.compile(pattern)\n",
        "assert my_regex.search('Jan 1987').group(1) == \"Jan 1987\"\n",
        "assert my_regex.search('Jan 1987').group(2) == \"1987\"\n",
        "assert my_regex.search('May 1969').group(1) == \"May 1969\"\n",
        "assert my_regex.search('May 1969').group(2) == \"1969\"\n",
        "assert my_regex.search('Aug 2011').group(1) == \"Aug 2011\"\n",
        "assert my_regex.search('Aug 2011').group(2) == \"2011\""
      ],
      "execution_count": null,
      "outputs": []
    },
    {
      "cell_type": "code",
      "metadata": {
        "id": "IJNmFwLG0t4r"
      },
      "source": [
        "# Lesson 13\n",
        "pattern = r\"(\\d+)x(\\d+)\"\n",
        "my_regex = re.compile(pattern)\n",
        "assert my_regex.search('1280x720').group(1) == \"1280\"\n",
        "assert my_regex.search('1280x720').group(2) == \"720\"\n",
        "assert my_regex.search('1920x1600').group(1) == \"1920\"\n",
        "assert my_regex.search('1920x1600').group(2) == \"1600\"\n",
        "assert my_regex.search('1024x786').group(1) == \"1024\"\n",
        "assert my_regex.search('1024x786').group(2) == \"786\""
      ],
      "execution_count": null,
      "outputs": []
    },
    {
      "cell_type": "code",
      "metadata": {
        "id": "4ElasNt50uBs"
      },
      "source": [
        "# Lesson 14\n",
        "pattern = r\"I love (cats|dogs)\"\n",
        "my_regex = re.compile(pattern)\n",
        "assert my_regex.search('I love cats')\n",
        "assert my_regex.search('I love dogs')\n",
        "assert not my_regex.search('I love logs')\n",
        "assert not my_regex.search('I love cogs')"
      ],
      "execution_count": null,
      "outputs": []
    },
    {
      "cell_type": "code",
      "metadata": {
        "id": "KuJu8e3Q0uL9"
      },
      "source": [
        "# Lesson 15\n",
        "pattern = r\"[\\w\\s\\b\\.&$#*@!%]*\"\n",
        "my_regex = re.compile(pattern)\n",
        "assert my_regex.search('The quick brown fox jumps over the lazy dog.')\n",
        "assert my_regex.search('There were 614 instances of students getting 90.0% or above.')\n",
        "assert my_regex.search('The FCC had to censor the networkfor saying &$#*@!')"
      ],
      "execution_count": null,
      "outputs": []
    },
    {
      "cell_type": "code",
      "metadata": {
        "id": "3_OEt4aP0uff"
      },
      "source": [
        "# Exercise 1\n",
        "pattern = r\"^-?[\\d\\.?,e]*$\"\n",
        "my_regex = re.compile(pattern)\n",
        "assert my_regex.search('3.14529')\n",
        "assert my_regex.search('-255.34')\n",
        "assert my_regex.search('128')\n",
        "assert my_regex.search('1.9e10')\n",
        "assert my_regex.search('123,340.00')\n",
        "assert not my_regex.search('720p')"
      ],
      "execution_count": null,
      "outputs": []
    },
    {
      "cell_type": "code",
      "metadata": {
        "id": "e18gfH8qmwPd"
      },
      "source": [
        "# Exercise 2\n",
        "pattern = r\"^(1 )?\\(?(\\d{3})\\)?\\s?[\\d -]*$\"\n",
        "my_regex = re.compile(pattern)\n",
        "assert '415' in my_regex.findall('415-555-1234')[0]\n",
        "assert '650' in my_regex.findall('650-555-2345')[0]\n",
        "assert '416' in my_regex.findall('(416)555-3456')[0]\n",
        "assert '202' in my_regex.findall('202 555 3456')[0]\n",
        "assert '403' in my_regex.findall('4035555678')[0]\n",
        "assert '416' in my_regex.findall('1 416 555 9292')[0]"
      ],
      "execution_count": null,
      "outputs": []
    },
    {
      "cell_type": "code",
      "metadata": {
        "id": "GJLhTEPKqZeR"
      },
      "source": [
        "# Exercise 3\n",
        "pattern = r\"^(\\w+(\\.?\\w+))\"\n",
        "my_regex = re.compile(pattern)\n",
        "assert 'tom' in my_regex.findall('tom@hogwarts.com')[0]\n",
        "assert 'tom.riddle' in my_regex.findall('tom.riddle@hogwarts.com')[0]\n",
        "assert 'tom.riddle' in my_regex.findall('tom.riddle+regexone@hogwarts.com')[0]\n",
        "assert 'tom' in my_regex.findall('tom@hogwarts.eu.com')[0]\n",
        "assert 'potter' in my_regex.findall('potter@hogwarts.com')[0]\n",
        "assert 'harry' in my_regex.findall('harry@hogwarts.com')[0]\n",
        "assert 'hermione' in my_regex.findall('hermione+regexone@hogwarts.com')[0]"
      ],
      "execution_count": null,
      "outputs": []
    },
    {
      "cell_type": "code",
      "metadata": {
        "id": "YvxBOmLIr9Xk"
      },
      "source": [
        "# Exercise 4\n",
        "pattern = r\"^<(\\w+)\"\n",
        "my_regex = re.compile(pattern)\n",
        "assert 'a' in my_regex.findall('<a>This is a link</a>')[0]\n",
        "assert 'a' in my_regex.findall(\"<a href='https://regexone.com'>Link</a>\")[0]\n",
        "assert 'div' in my_regex.findall(\"<div class='test_style'>Test</div>\")[0]\n",
        "assert 'div' in my_regex.findall('<div>Hello <span>world</span></div>')[0]"
      ],
      "execution_count": null,
      "outputs": []
    },
    {
      "cell_type": "code",
      "metadata": {
        "id": "lEbKqyDs4xn0"
      },
      "source": [
        "# Exercise 5\n",
        "pattern = r\"(\\w+).(jpg|png|gif)$\"\n",
        "my_regex = re.compile(pattern)\n",
        "assert not my_regex.findall('.bash_profile')\n",
        "assert not my_regex.findall('workspace.doc')\n",
        "assert 'img0912' in my_regex.findall('img0912.jpg')[0]\n",
        "assert 'jpg' in my_regex.findall(\"img0912.jpg\")[0]\n",
        "assert 'updated_img0912' in my_regex.findall(\"updated_img0912.png\")[0]\n",
        "assert 'png' in my_regex.findall('updated_img0912.png')[0]\n",
        "assert not my_regex.findall('documentation.html')\n",
        "assert 'favicon' in my_regex.findall('favicon.gif')[0]\n",
        "assert 'gif' in my_regex.findall('favicon.gif')[0]\n",
        "assert not my_regex.findall('img0912.jpg.tmp')\n",
        "assert not my_regex.findall('access.lock')"
      ],
      "execution_count": null,
      "outputs": []
    },
    {
      "cell_type": "code",
      "metadata": {
        "id": "CW8tNQJFr-Gj"
      },
      "source": [
        "# Exercise 6\n",
        "pattern = r\"^\\s*(.*)\\s*$\"\n",
        "my_regex = re.compile(pattern)\n",
        "assert 'The quick brown fox...' in my_regex.findall('\t\t\t\tThe quick brown fox...')[0]\n",
        "assert 'jumps over the lazy dog.' in my_regex.findall(\" jumps over the lazy dog.\")[0]"
      ],
      "execution_count": null,
      "outputs": []
    },
    {
      "cell_type": "code",
      "metadata": {
        "id": "w4c2jMBIr-jt"
      },
      "source": [
        "# Exercise 7\n",
        "pattern = r\"(\\w+)\\(([\\w\\.]+):(\\d+)\"\n",
        "my_regex = re.compile(pattern)\n",
        "assert not my_regex.findall('\tW/dalvikvm( 1553): threadid=1: uncaught exception')\n",
        "assert not my_regex.findall('\tE/( 1553): FATAL EXCEPTION: main')\n",
        "assert not my_regex.findall('E/( 1553): java.lang.StringIndexOutOfBoundsException')\n",
        "assert all (x in my_regex.findall('E/( 1553):   at widget.List.makeView(ListView.java:1727)')[0] for x in ('makeView', 'ListView.java', '1727'))\n",
        "assert all (x in my_regex.findall('E/( 1553):   at widget.List.fillDown(ListView.java:652)')[0] for x in ('fillDown', 'ListView.java', '652'))\n",
        "assert all (x in my_regex.findall('E/( 1553):   at widget.List.fillFrom(ListView.java:709)')[0] for x in ('fillFrom', 'ListView.java', '709'))"
      ],
      "execution_count": null,
      "outputs": []
    },
    {
      "cell_type": "code",
      "metadata": {
        "id": "x0fO_OTR9uU1"
      },
      "source": [
        "# Exercise 8\n",
        "pattern = r\"(\\w+)://([\\w+\\.-]*)(:(\\d+))?\"\n",
        "my_regex = re.compile(pattern)\n",
        "assert all (x in my_regex.findall('ftp://file_server.com:21/top_secret/life_changing_plans.pdf')[0] for x in ('ftp', 'file_server.com', '21'))\n",
        "assert all (x in my_regex.findall('https://regexone.com/lesson/introduction#section')[0] for x in ('https', 'regexone.com'))\n",
        "assert all (x in my_regex.findall('\tfile://localhost:4040/zip_file')[0] for x in ('file', 'localhost', '4040'))\n",
        "assert all (x in my_regex.findall('https://s3cur3-server.com:9999/')[0] for x in ('https', 's3cur3-server.com', '9999'))\n",
        "assert all (x in my_regex.findall('market://search/angry%20birds')[0] for x in ('market', 'search'))"
      ],
      "execution_count": null,
      "outputs": []
    }
  ]
}